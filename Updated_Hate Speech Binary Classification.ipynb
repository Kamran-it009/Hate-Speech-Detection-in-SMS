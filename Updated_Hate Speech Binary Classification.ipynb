{
 "cells": [
  {
   "cell_type": "markdown",
   "id": "06075891",
   "metadata": {},
   "source": [
    "### Import Libraries"
   ]
  },
  {
   "cell_type": "code",
   "execution_count": 48,
   "id": "f9eff08e",
   "metadata": {},
   "outputs": [],
   "source": [
    "import nltk\n",
    "import warnings\n",
    "import numpy as np\n",
    "import pandas as pd\n",
    "import seaborn as sns\n",
    "import tensorflow as tf\n",
    "from sklearn.svm import SVC # SVM\n",
    "warnings.simplefilter(\"ignore\")\n",
    "import matplotlib.pyplot as plt\n",
    "from nltk.corpus import stopwords\n",
    "from nltk.stem import WordNetLemmatizer\n",
    "from tensorflow.keras.layers import Dense\n",
    "from tensorflow.keras.layers import Dropout\n",
    "from sklearn.metrics import accuracy_score\n",
    "from sklearn.metrics import confusion_matrix\n",
    "from sklearn.neural_network import MLPClassifier # MLP Classifier\n",
    "from sklearn.metrics import classification_report\n",
    "from sklearn.ensemble import RandomForestClassifier # Random Forest\n",
    "from sklearn.model_selection import train_test_split\n",
    "from sentence_transformers import SentenceTransformer # Sentence Transformer\n",
    "from sklearn.feature_extraction.text import CountVectorizer"
   ]
  },
  {
   "cell_type": "markdown",
   "id": "5f45491e",
   "metadata": {},
   "source": [
    "## Read dataset"
   ]
  },
  {
   "cell_type": "code",
   "execution_count": 49,
   "id": "b9ff991b",
   "metadata": {
    "scrolled": true
   },
   "outputs": [
    {
     "data": {
      "text/html": [
       "<div>\n",
       "<style scoped>\n",
       "    .dataframe tbody tr th:only-of-type {\n",
       "        vertical-align: middle;\n",
       "    }\n",
       "\n",
       "    .dataframe tbody tr th {\n",
       "        vertical-align: top;\n",
       "    }\n",
       "\n",
       "    .dataframe thead th {\n",
       "        text-align: right;\n",
       "    }\n",
       "</style>\n",
       "<table border=\"1\" class=\"dataframe\">\n",
       "  <thead>\n",
       "    <tr style=\"text-align: right;\">\n",
       "      <th></th>\n",
       "      <th>post</th>\n",
       "      <th>class</th>\n",
       "    </tr>\n",
       "  </thead>\n",
       "  <tbody>\n",
       "    <tr>\n",
       "      <th>18741</th>\n",
       "      <td>i'm not a racist but this the very first time ...</td>\n",
       "      <td>not_hate</td>\n",
       "    </tr>\n",
       "    <tr>\n",
       "      <th>9209</th>\n",
       "      <td>white power company : power to our people via</td>\n",
       "      <td>implicit_hate</td>\n",
       "    </tr>\n",
       "    <tr>\n",
       "      <th>18960</th>\n",
       "      <td>the point is that white people say that black ...</td>\n",
       "      <td>not_hate</td>\n",
       "    </tr>\n",
       "    <tr>\n",
       "      <th>8160</th>\n",
       "      <td>the protesters in new mexico were thugs who we...</td>\n",
       "      <td>implicit_hate</td>\n",
       "    </tr>\n",
       "    <tr>\n",
       "      <th>7009</th>\n",
       "      <td>indians are pre colombians . white people foun...</td>\n",
       "      <td>implicit_hate</td>\n",
       "    </tr>\n",
       "  </tbody>\n",
       "</table>\n",
       "</div>"
      ],
      "text/plain": [
       "                                                    post          class\n",
       "18741  i'm not a racist but this the very first time ...       not_hate\n",
       "9209       white power company : power to our people via  implicit_hate\n",
       "18960  the point is that white people say that black ...       not_hate\n",
       "8160   the protesters in new mexico were thugs who we...  implicit_hate\n",
       "7009   indians are pre colombians . white people foun...  implicit_hate"
      ]
     },
     "execution_count": 49,
     "metadata": {},
     "output_type": "execute_result"
    }
   ],
   "source": [
    "df = pd.read_csv('Dataset/implicit_hate_v1_stg1_posts.tsv', sep='\\t')\n",
    "# Five random samples of the dataset\n",
    "df.sample(5)"
   ]
  },
  {
   "cell_type": "code",
   "execution_count": 50,
   "id": "cfbcf150",
   "metadata": {},
   "outputs": [
    {
     "name": "stdout",
     "output_type": "stream",
     "text": [
      "No of records: 21480\n",
      "No of columns: 2\n"
     ]
    }
   ],
   "source": [
    "# Shape of Data Frames\n",
    "print('No of records:', df.shape[0])\n",
    "print('No of columns:', df.shape[1])"
   ]
  },
  {
   "cell_type": "code",
   "execution_count": 51,
   "id": "4af27cef",
   "metadata": {},
   "outputs": [
    {
     "name": "stdout",
     "output_type": "stream",
     "text": [
      "post     0\n",
      "class    0\n",
      "dtype: int64\n"
     ]
    },
    {
     "data": {
      "image/png": "[encoded data removed]",
      "text/plain": [
       "<Figure size 432x288 with 2 Axes>"
      ]
     },
     "metadata": {},
     "output_type": "display_data"
    }
   ],
   "source": [
    "# Null values in columns:\n",
    "sns.heatmap(df.isna())\n",
    "print(df.isna().sum())"
   ]
  },
  {
   "cell_type": "markdown",
   "id": "ec61000a",
   "metadata": {},
   "source": [
    "it shows that the data is already clean."
   ]
  },
  {
   "cell_type": "markdown",
   "id": "d2f39080",
   "metadata": {},
   "source": [
    "### Data Preprocessing"
   ]
  },
  {
   "cell_type": "code",
   "execution_count": 52,
   "id": "7d5d622b",
   "metadata": {},
   "outputs": [],
   "source": [
    "def preprocess(data):\n",
    "    # Lowercase conversion\n",
    "    data['post'] = data['post'].apply(\n",
    "        lambda x: \" \".join(x.lower() for x in x.split()))\n",
    "    # Removal of special characters\n",
    "    data['post']= data['post'].str.replace('[^\\w\\s]', ' ')\n",
    "    # Removal of Digits & numbers\n",
    "    data['post'] = data['post'].str.replace('\\d+',' ')\n",
    "    data['post'] = data['post'].str.replace('_',' ')\n",
    "    # Removal of stopwords\n",
    "    data['post'] = data['post'].apply( \n",
    "        lambda x: \" \".join(x for x in x.split() if x not in stopwords.words('english')))\n",
    "    # Lemmatization\n",
    "    data['post'] = [WordNetLemmatizer().lemmatize(word) for word in data['post']]\n",
    "    \n",
    "    return data\n",
    "\n",
    "df_preprocess = preprocess(df)"
   ]
  },
  {
   "cell_type": "markdown",
   "id": "277b6eb5",
   "metadata": {},
   "source": [
    "### Data Visualization"
   ]
  },
  {
   "cell_type": "code",
   "execution_count": 53,
   "id": "34870d9a",
   "metadata": {},
   "outputs": [
    {
     "data": {
      "text/plain": [
       "<AxesSubplot:xlabel='class', ylabel='count'>"
      ]
     },
     "execution_count": 53,
     "metadata": {},
     "output_type": "execute_result"
    },
    {
     "data": {
      "image/png": "[encoded data removed]",
      "text/plain": [
       "<Figure size 504x360 with 1 Axes>"
      ]
     },
     "metadata": {},
     "output_type": "display_data"
    }
   ],
   "source": [
    "plt.figure(figsize=(7, 5))\n",
    "sns.set()\n",
    "sns.countplot(df['class'], color='seagreen')"
   ]
  },
  {
   "cell_type": "markdown",
   "id": "d1a748af",
   "metadata": {},
   "source": [
    "### Data Encoding"
   ]
  },
  {
   "cell_type": "code",
   "execution_count": 54,
   "id": "ecdb45b2",
   "metadata": {},
   "outputs": [],
   "source": [
    "df_preprocess['class'] = df_preprocess['class'].replace({'implicit_hate': 'hate', 'explicit_hate': 'hate'})\n",
    "df_preprocess['class'] = df_preprocess['class'].replace({'not_hate': 0, 'hate': 1})"
   ]
  },
  {
   "cell_type": "markdown",
   "id": "62b7297d",
   "metadata": {},
   "source": [
    "## Binary Classification (baseline)"
   ]
  },
  {
   "cell_type": "code",
   "execution_count": 55,
   "id": "846392a9",
   "metadata": {},
   "outputs": [],
   "source": [
    "# Feature and target selection\n",
    "X = df_preprocess['post']\n",
    "y = df_preprocess['class']"
   ]
  },
  {
   "cell_type": "code",
   "execution_count": 157,
   "id": "38e298a9",
   "metadata": {},
   "outputs": [],
   "source": [
    "# Load pre-trained BERT model\n",
    "model_name = 'bert-base-nli-mean-tokens'\n",
    "model = SentenceTransformer(model_name)\n",
    "\n",
    "# Encode text using pre-trained BERT model\n",
    "encoded_text = model.encode(X.tolist())"
   ]
  },
  {
   "cell_type": "markdown",
   "id": "04cc2390",
   "metadata": {},
   "source": [
    "### Data Balancing"
   ]
  },
  {
   "cell_type": "code",
   "execution_count": 158,
   "id": "b3484d4e",
   "metadata": {},
   "outputs": [
    {
     "name": "stdout",
     "output_type": "stream",
     "text": [
      "No. of samples(not_hate): 13291\n",
      "No. of samples(hate): 8189\n",
      "\n",
      "After Balancing data----------------------------\n",
      "\n",
      "No. of samples(not_hate): 13291\n",
      "No. of samples(hate): 13291\n"
     ]
    }
   ],
   "source": [
    "from imblearn.over_sampling import RandomOverSampler\n",
    "# Define the undersampling method\n",
    "oversampler = RandomOverSampler()\n",
    "# # Undersample the data\n",
    "x_sampled, y_sampled = oversampler.fit_resample(encoded_text, y)\n",
    "\n",
    "print('No. of samples(not_hate):', y.value_counts()[0])\n",
    "print('No. of samples(hate):', y.value_counts()[1])\n",
    "print('\\nAfter Balancing data----------------------------')\n",
    "print('\\nNo. of samples(not_hate):', y_sampled.value_counts()[0])\n",
    "print('No. of samples(hate):', y_sampled.value_counts()[0])"
   ]
  },
  {
   "cell_type": "markdown",
   "id": "16f82e33",
   "metadata": {},
   "source": [
    "#### Data splitting"
   ]
  },
  {
   "cell_type": "code",
   "execution_count": null,
   "id": "22c06a59",
   "metadata": {},
   "outputs": [],
   "source": [
    "X_train, X_test, y_train, y_test = train_test_split(x_sampled, y_sampled, \n",
    "                                                    test_size=0.2, random_state=42)"
   ]
  },
  {
   "cell_type": "markdown",
   "id": "786344bb",
   "metadata": {},
   "source": [
    "### MLP Classifier"
   ]
  },
  {
   "cell_type": "code",
   "execution_count": 160,
   "id": "36641213",
   "metadata": {},
   "outputs": [
    {
     "name": "stdout",
     "output_type": "stream",
     "text": [
      "Accuracy: 0.7936806469813805 \n",
      "\n",
      "              precision    recall  f1-score   support\n",
      "\n",
      "    not_hate       0.82      0.76      0.79      2702\n",
      "        hate       0.77      0.83      0.80      2615\n",
      "\n",
      "    accuracy                           0.79      5317\n",
      "   macro avg       0.80      0.79      0.79      5317\n",
      "weighted avg       0.80      0.79      0.79      5317\n",
      "\n"
     ]
    },
    {
     "data": {
      "text/plain": [
       "<AxesSubplot:>"
      ]
     },
     "execution_count": 160,
     "metadata": {},
     "output_type": "execute_result"
    },
    {
     "data": {
      "image/png": "[encoded data removed]",
      "text/plain": [
       "<Figure size 432x288 with 2 Axes>"
      ]
     },
     "metadata": {},
     "output_type": "display_data"
    }
   ],
   "source": [
    "# Define MLP classifier with 6 output classes\n",
    "classifier = MLPClassifier(hidden_layer_sizes=(256, 128), max_iter=1000)\n",
    "\n",
    "# Train the classifier on the encoded text\n",
    "classifier.fit(X_train, y_train)\n",
    "\n",
    "# Predict the labels for the encoded text\n",
    "y_pred = classifier.predict(X_test)\n",
    "\n",
    "# Calculate accuracy of the predictions\n",
    "accuracy = accuracy_score(y_test, y_pred)\n",
    "print(f\"Accuracy: {accuracy} \\n\")\n",
    "\n",
    "# Calculate classification report and confusion matrix\n",
    "classes = ['not_hate', 'hate']\n",
    "print(classification_report(y_test, y_pred, target_names= classes))\n",
    "\n",
    "cm = confusion_matrix(y_test, y_pred)\n",
    "sns.heatmap(cm, annot=True, cmap='Blues', xticklabels=classes, yticklabels=classes, fmt='d')"
   ]
  },
  {
   "cell_type": "markdown",
   "id": "0495d5e3",
   "metadata": {},
   "source": [
    "# Binary Classification (CountVectorizer)"
   ]
  },
  {
   "cell_type": "code",
   "execution_count": 56,
   "id": "ba869930",
   "metadata": {},
   "outputs": [],
   "source": [
    "vectorizer = CountVectorizer(max_features=1000) \n",
    "x = vectorizer.fit_transform(df_preprocess['post']).toarray()"
   ]
  },
  {
   "cell_type": "code",
   "execution_count": 57,
   "id": "3059b3c1",
   "metadata": {},
   "outputs": [],
   "source": [
    "y = df_preprocess['class']"
   ]
  },
  {
   "cell_type": "code",
   "execution_count": 58,
   "id": "7aa195d8",
   "metadata": {},
   "outputs": [],
   "source": [
    "x_train, x_test, y_train, y_test = train_test_split(x, y, \n",
    "                                                    test_size=0.2, random_state=42)"
   ]
  },
  {
   "cell_type": "markdown",
   "id": "8a636ee6",
   "metadata": {},
   "source": [
    "### Deep Neural Network + Random Forest Classifier"
   ]
  },
  {
   "cell_type": "code",
   "execution_count": 59,
   "id": "8e200b96",
   "metadata": {},
   "outputs": [
    {
     "name": "stdout",
     "output_type": "stream",
     "text": [
      "537/537 [==============================] - 6s 11ms/step\n",
      "135/135 [==============================] - 2s 11ms/step\n",
      "\u001b[47mClassification Report\n",
      "\n",
      "\u001b[0m\u001b[34m               precision    recall  f1-score   support\n",
      "\n",
      "           0       0.63      0.94      0.76      2674\n",
      "           1       0.50      0.10      0.16      1622\n",
      "\n",
      "    accuracy                           0.62      4296\n",
      "   macro avg       0.57      0.52      0.46      4296\n",
      "weighted avg       0.58      0.62      0.53      4296\n",
      "\n"
     ]
    }
   ],
   "source": [
    "# deep learning model initialization\n",
    "model = tf.keras.models.Sequential()  \n",
    "model.add(Dense(1000,input_shape=(1000,),activation='relu'))\n",
    "model.add(Dense(500,activation='relu'))\n",
    "model.add(Dense(300,activation='relu'))\n",
    "model.add(Dense(150,activation='relu'))\n",
    "model.add(Dense(75,activation='relu'))\n",
    "model.add(Dense(30,activation='relu'))\n",
    "model.add(Dropout(0.5))\n",
    "\n",
    "x_train_1 = model.predict(x_train)\n",
    "x_test_1 = model.predict(x_test)\n",
    "\n",
    "# Random Forest\n",
    "clf = RandomForestClassifier(n_estimators=20, max_depth=10, random_state=42)\n",
    "clf = clf.fit(x_train_1, y_train)\n",
    "rf_pred = clf.predict(x_test_1)\n",
    "print('\\033[47m' + 'Classification Report\\n\\n' + '\\033[0m' + '\\033[34m', classification_report(y_test, rf_pred))"
   ]
  },
  {
   "cell_type": "markdown",
   "id": "87cfec7c",
   "metadata": {},
   "source": [
    "### Deep Neural Network + Support Vector Classifier"
   ]
  },
  {
   "cell_type": "code",
   "execution_count": 60,
   "id": "3f0cddbf",
   "metadata": {},
   "outputs": [
    {
     "name": "stdout",
     "output_type": "stream",
     "text": [
      "537/537 [==============================] - 5s 9ms/step\n",
      "135/135 [==============================] - 1s 9ms/step\n",
      "\u001b[47mClassification Report\n",
      "\n",
      "\u001b[0m\u001b[32m               precision    recall  f1-score   support\n",
      "\n",
      "           0       0.64      0.95      0.76      2674\n",
      "           1       0.54      0.11      0.18      1622\n",
      "\n",
      "    accuracy                           0.63      4296\n",
      "   macro avg       0.59      0.53      0.47      4296\n",
      "weighted avg       0.60      0.63      0.54      4296\n",
      "\n"
     ]
    }
   ],
   "source": [
    "# deep learning model initialization\n",
    "model = tf.keras.models.Sequential()  \n",
    "model.add(Dense(1000,input_shape=(1000,),activation='relu'))\n",
    "model.add(Dense(300,activation='relu'))\n",
    "model.add(Dense(30,activation='relu'))\n",
    "model.add(Dropout(0.5))\n",
    "\n",
    "x_train_2 = model.predict(x_train)\n",
    "x_test_2 = model.predict(x_test)\n",
    "\n",
    "# SVM\n",
    "svc_model = SVC()\n",
    "svc_model.fit(x_train_2, y_train)\n",
    "svc_pred = svc_model.predict(x_test_2)\n",
    "print('\\033[47m' + 'Classification Report\\n\\n' + '\\033[0m' + '\\033[32m', classification_report(y_test, svc_pred))"
   ]
  }
 ],
 "metadata": {
  "kernelspec": {
   "display_name": "Python 3 (ipykernel)",
   "language": "python",
   "name": "python3"
  },
  "language_info": {
   "codemirror_mode": {
    "name": "ipython",
    "version": 3
   },
   "file_extension": ".py",
   "mimetype": "text/x-python",
   "name": "python",
   "nbconvert_exporter": "python",
   "pygments_lexer": "ipython3",
   "version": "3.11.3"
  }
 },
 "nbformat": 4,
 "nbformat_minor": 5
}
