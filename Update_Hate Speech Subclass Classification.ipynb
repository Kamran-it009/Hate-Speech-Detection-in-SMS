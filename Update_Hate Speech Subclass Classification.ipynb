{
 "cells": [
  {
   "cell_type": "markdown",
   "id": "7af72670",
   "metadata": {},
   "source": [
    "### Import Libraries"
   ]
  },
  {
   "cell_type": "code",
   "execution_count": 15,
   "id": "82bf44d4",
   "metadata": {},
   "outputs": [
    {
     "name": "stderr",
     "output_type": "stream",
     "text": [
      "[nltk_data] Downloading package omw-1.4 to C:\\Users\\Kamran-\n",
      "[nltk_data]     PC\\AppData\\Roaming\\nltk_data...\n"
     ]
    },
    {
     "data": {
      "text/plain": [
       "True"
      ]
     },
     "execution_count": 15,
     "metadata": {},
     "output_type": "execute_result"
    }
   ],
   "source": [
    "nltk.download('omw-1.4')"
   ]
  },
  {
   "cell_type": "code",
   "execution_count": 16,
   "id": "6d33dfa2",
   "metadata": {},
   "outputs": [],
   "source": [
    "import nltk\n",
    "import warnings\n",
    "import numpy as np\n",
    "import pandas as pd\n",
    "import seaborn as sns\n",
    "import tensorflow as tf\n",
    "warnings.simplefilter(\"ignore\")\n",
    "import matplotlib.pyplot as plt\n",
    "from sklearn.svm import SVC # SVM\n",
    "from nltk.corpus import stopwords\n",
    "from nltk.stem import WordNetLemmatizer\n",
    "from tensorflow.keras.layers import Dense\n",
    "from tensorflow.keras.layers import Dropout\n",
    "from sklearn.metrics import accuracy_score\n",
    "from sklearn.metrics import confusion_matrix\n",
    "from sklearn.preprocessing import LabelEncoder\n",
    "from sklearn.neural_network import MLPClassifier # MLP Classifier\n",
    "from sklearn.metrics import classification_report\n",
    "from sklearn.ensemble import RandomForestClassifier # Random Forest\n",
    "from sklearn.model_selection import train_test_split\n",
    "# from sentence_transformers import SentenceTransformer # Sentence Transformer\n",
    "from sklearn.feature_extraction.text import CountVectorizer"
   ]
  },
  {
   "cell_type": "markdown",
   "id": "db4a998d",
   "metadata": {},
   "source": [
    "### Read dataset"
   ]
  },
  {
   "cell_type": "code",
   "execution_count": 17,
   "id": "4a0c3fb1",
   "metadata": {},
   "outputs": [
    {
     "data": {
      "text/html": [
       "<div>\n",
       "<style scoped>\n",
       "    .dataframe tbody tr th:only-of-type {\n",
       "        vertical-align: middle;\n",
       "    }\n",
       "\n",
       "    .dataframe tbody tr th {\n",
       "        vertical-align: top;\n",
       "    }\n",
       "\n",
       "    .dataframe thead th {\n",
       "        text-align: right;\n",
       "    }\n",
       "</style>\n",
       "<table border=\"1\" class=\"dataframe\">\n",
       "  <thead>\n",
       "    <tr style=\"text-align: right;\">\n",
       "      <th></th>\n",
       "      <th>post</th>\n",
       "      <th>implicit_class</th>\n",
       "      <th>extra_implicit_class</th>\n",
       "    </tr>\n",
       "  </thead>\n",
       "  <tbody>\n",
       "    <tr>\n",
       "      <th>0</th>\n",
       "      <td>\" : jewish harvard professor noel ignatiev w...</td>\n",
       "      <td>white_grievance</td>\n",
       "      <td>NaN</td>\n",
       "    </tr>\n",
       "    <tr>\n",
       "      <th>1</th>\n",
       "      <td>rt : tune in today's jmt for my interview w /...</td>\n",
       "      <td>irony</td>\n",
       "      <td>NaN</td>\n",
       "    </tr>\n",
       "    <tr>\n",
       "      <th>2</th>\n",
       "      <td>: : hate posters ? you want hate buddy ? read ...</td>\n",
       "      <td>white_grievance</td>\n",
       "      <td>NaN</td>\n",
       "    </tr>\n",
       "    <tr>\n",
       "      <th>3</th>\n",
       "      <td>: hunt for white women : black racist serial k...</td>\n",
       "      <td>stereotypical</td>\n",
       "      <td>NaN</td>\n",
       "    </tr>\n",
       "    <tr>\n",
       "      <th>4</th>\n",
       "      <td>: looks like he was a fan of the islamic jew-h...</td>\n",
       "      <td>stereotypical</td>\n",
       "      <td>NaN</td>\n",
       "    </tr>\n",
       "  </tbody>\n",
       "</table>\n",
       "</div>"
      ],
      "text/plain": [
       "                                                post   implicit_class  \\\n",
       "0    \" : jewish harvard professor noel ignatiev w...  white_grievance   \n",
       "1   rt : tune in today's jmt for my interview w /...            irony   \n",
       "2  : : hate posters ? you want hate buddy ? read ...  white_grievance   \n",
       "3  : hunt for white women : black racist serial k...    stereotypical   \n",
       "4  : looks like he was a fan of the islamic jew-h...    stereotypical   \n",
       "\n",
       "  extra_implicit_class  \n",
       "0                  NaN  \n",
       "1                  NaN  \n",
       "2                  NaN  \n",
       "3                  NaN  \n",
       "4                  NaN  "
      ]
     },
     "execution_count": 17,
     "metadata": {},
     "output_type": "execute_result"
    }
   ],
   "source": [
    "df = pd.read_csv('Dataset/implicit_hate_v1_stg2_posts.tsv', sep='\\t')\n",
    "df.head()"
   ]
  },
  {
   "cell_type": "code",
   "execution_count": 18,
   "id": "8b854fc8",
   "metadata": {},
   "outputs": [
    {
     "data": {
      "text/html": [
       "<div>\n",
       "<style scoped>\n",
       "    .dataframe tbody tr th:only-of-type {\n",
       "        vertical-align: middle;\n",
       "    }\n",
       "\n",
       "    .dataframe tbody tr th {\n",
       "        vertical-align: top;\n",
       "    }\n",
       "\n",
       "    .dataframe thead th {\n",
       "        text-align: right;\n",
       "    }\n",
       "</style>\n",
       "<table border=\"1\" class=\"dataframe\">\n",
       "  <thead>\n",
       "    <tr style=\"text-align: right;\">\n",
       "      <th></th>\n",
       "      <th>post</th>\n",
       "      <th>implicit_class</th>\n",
       "    </tr>\n",
       "  </thead>\n",
       "  <tbody>\n",
       "    <tr>\n",
       "      <th>0</th>\n",
       "      <td>\" : jewish harvard professor noel ignatiev w...</td>\n",
       "      <td>white_grievance</td>\n",
       "    </tr>\n",
       "    <tr>\n",
       "      <th>1</th>\n",
       "      <td>rt : tune in today's jmt for my interview w /...</td>\n",
       "      <td>irony</td>\n",
       "    </tr>\n",
       "    <tr>\n",
       "      <th>2</th>\n",
       "      <td>: : hate posters ? you want hate buddy ? read ...</td>\n",
       "      <td>white_grievance</td>\n",
       "    </tr>\n",
       "    <tr>\n",
       "      <th>3</th>\n",
       "      <td>: hunt for white women : black racist serial k...</td>\n",
       "      <td>stereotypical</td>\n",
       "    </tr>\n",
       "    <tr>\n",
       "      <th>4</th>\n",
       "      <td>: looks like he was a fan of the islamic jew-h...</td>\n",
       "      <td>stereotypical</td>\n",
       "    </tr>\n",
       "  </tbody>\n",
       "</table>\n",
       "</div>"
      ],
      "text/plain": [
       "                                                post   implicit_class\n",
       "0    \" : jewish harvard professor noel ignatiev w...  white_grievance\n",
       "1   rt : tune in today's jmt for my interview w /...            irony\n",
       "2  : : hate posters ? you want hate buddy ? read ...  white_grievance\n",
       "3  : hunt for white women : black racist serial k...    stereotypical\n",
       "4  : looks like he was a fan of the islamic jew-h...    stereotypical"
      ]
     },
     "execution_count": 18,
     "metadata": {},
     "output_type": "execute_result"
    }
   ],
   "source": [
    "# Drop unnecessary columns\n",
    "df_clean  = df.drop(['extra_implicit_class'], axis = 1)\n",
    "df_clean.head()"
   ]
  },
  {
   "cell_type": "code",
   "execution_count": 19,
   "id": "6163fffd",
   "metadata": {},
   "outputs": [
    {
     "name": "stdout",
     "output_type": "stream",
     "text": [
      "No. of samples belonging to each class:\n",
      "\n",
      "white_grievance    1538\n",
      "incitement         1269\n",
      "stereotypical      1133\n",
      "inferiority         863\n",
      "irony               797\n",
      "threatening         666\n",
      "other                80\n",
      "Name: implicit_class, dtype: int64\n"
     ]
    }
   ],
   "source": [
    "# Each class samples\n",
    "print('No. of samples belonging to each class:\\n')\n",
    "print(df_clean['implicit_class'].value_counts())"
   ]
  },
  {
   "cell_type": "code",
   "execution_count": 20,
   "id": "4219cbd2",
   "metadata": {},
   "outputs": [
    {
     "name": "stdout",
     "output_type": "stream",
     "text": [
      "\n",
      "Sum of null values in each column:\n",
      "post              0\n",
      "implicit_class    0\n",
      "dtype: int64\n"
     ]
    }
   ],
   "source": [
    "# Checking data foo null values\n",
    "print('\\nSum of null values in each column:')\n",
    "print(df_clean.isna().sum())"
   ]
  },
  {
   "cell_type": "code",
   "execution_count": 21,
   "id": "dabd4dff",
   "metadata": {},
   "outputs": [
    {
     "name": "stdout",
     "output_type": "stream",
     "text": [
      ": hunt for white women : black racist serial killer confesses to 41 murders\n"
     ]
    }
   ],
   "source": [
    "print(df_clean['post'][3])"
   ]
  },
  {
   "cell_type": "markdown",
   "id": "20a7185b",
   "metadata": {},
   "source": [
    "### Data Preprocessing"
   ]
  },
  {
   "cell_type": "code",
   "execution_count": 22,
   "id": "e971b94f",
   "metadata": {},
   "outputs": [],
   "source": [
    "def preprocess(data):\n",
    "    # Lowercase conversion\n",
    "    data['post'] = data['post'].apply(\n",
    "        lambda x: \" \".join(x.lower() for x in x.split()))\n",
    "    # Removal of special characters\n",
    "    data['post']= data['post'].str.replace('[^\\w\\s]', ' ')\n",
    "    # Removal of Digits & numbers\n",
    "    data['post'] = data['post'].str.replace('\\d+',' ')\n",
    "    data['post'] = data['post'].str.replace('_',' ')\n",
    "    # Removal of stopwords\n",
    "    data['post'] = data['post'].apply( \n",
    "        lambda x: \" \".join(x for x in x.split() if x not in stopwords.words('english')))\n",
    "    # Lemmatization\n",
    "    data['post'] = [WordNetLemmatizer().lemmatize(word) for word in data['post']]\n",
    "    \n",
    "    return data\n",
    "\n",
    "df_clean = preprocess(df_clean)"
   ]
  },
  {
   "cell_type": "code",
   "execution_count": 24,
   "id": "746a1b1b",
   "metadata": {},
   "outputs": [
    {
     "data": {
      "text/html": [
       "<div>\n",
       "<style scoped>\n",
       "    .dataframe tbody tr th:only-of-type {\n",
       "        vertical-align: middle;\n",
       "    }\n",
       "\n",
       "    .dataframe tbody tr th {\n",
       "        vertical-align: top;\n",
       "    }\n",
       "\n",
       "    .dataframe thead th {\n",
       "        text-align: right;\n",
       "    }\n",
       "</style>\n",
       "<table border=\"1\" class=\"dataframe\">\n",
       "  <thead>\n",
       "    <tr style=\"text-align: right;\">\n",
       "      <th></th>\n",
       "      <th>post</th>\n",
       "      <th>implicit_class</th>\n",
       "      <th>extra_implicit_class</th>\n",
       "    </tr>\n",
       "  </thead>\n",
       "  <tbody>\n",
       "    <tr>\n",
       "      <th>0</th>\n",
       "      <td>\" : jewish harvard professor noel ignatiev w...</td>\n",
       "      <td>white_grievance</td>\n",
       "      <td>NaN</td>\n",
       "    </tr>\n",
       "    <tr>\n",
       "      <th>1</th>\n",
       "      <td>rt : tune in today's jmt for my interview w /...</td>\n",
       "      <td>irony</td>\n",
       "      <td>NaN</td>\n",
       "    </tr>\n",
       "    <tr>\n",
       "      <th>2</th>\n",
       "      <td>: : hate posters ? you want hate buddy ? read ...</td>\n",
       "      <td>white_grievance</td>\n",
       "      <td>NaN</td>\n",
       "    </tr>\n",
       "    <tr>\n",
       "      <th>3</th>\n",
       "      <td>: hunt for white women : black racist serial k...</td>\n",
       "      <td>stereotypical</td>\n",
       "      <td>NaN</td>\n",
       "    </tr>\n",
       "    <tr>\n",
       "      <th>4</th>\n",
       "      <td>: looks like he was a fan of the islamic jew-h...</td>\n",
       "      <td>stereotypical</td>\n",
       "      <td>NaN</td>\n",
       "    </tr>\n",
       "  </tbody>\n",
       "</table>\n",
       "</div>"
      ],
      "text/plain": [
       "                                                post   implicit_class  \\\n",
       "0    \" : jewish harvard professor noel ignatiev w...  white_grievance   \n",
       "1   rt : tune in today's jmt for my interview w /...            irony   \n",
       "2  : : hate posters ? you want hate buddy ? read ...  white_grievance   \n",
       "3  : hunt for white women : black racist serial k...    stereotypical   \n",
       "4  : looks like he was a fan of the islamic jew-h...    stereotypical   \n",
       "\n",
       "  extra_implicit_class  \n",
       "0                  NaN  \n",
       "1                  NaN  \n",
       "2                  NaN  \n",
       "3                  NaN  \n",
       "4                  NaN  "
      ]
     },
     "execution_count": 24,
     "metadata": {},
     "output_type": "execute_result"
    }
   ],
   "source": [
    "df.head()"
   ]
  },
  {
   "cell_type": "code",
   "execution_count": 25,
   "id": "da00de0c",
   "metadata": {},
   "outputs": [
    {
     "data": {
      "text/html": [
       "<div>\n",
       "<style scoped>\n",
       "    .dataframe tbody tr th:only-of-type {\n",
       "        vertical-align: middle;\n",
       "    }\n",
       "\n",
       "    .dataframe tbody tr th {\n",
       "        vertical-align: top;\n",
       "    }\n",
       "\n",
       "    .dataframe thead th {\n",
       "        text-align: right;\n",
       "    }\n",
       "</style>\n",
       "<table border=\"1\" class=\"dataframe\">\n",
       "  <thead>\n",
       "    <tr style=\"text-align: right;\">\n",
       "      <th></th>\n",
       "      <th>post</th>\n",
       "      <th>implicit_class</th>\n",
       "    </tr>\n",
       "  </thead>\n",
       "  <tbody>\n",
       "    <tr>\n",
       "      <th>0</th>\n",
       "      <td>jewish harvard professor noel ignatiev wants a...</td>\n",
       "      <td>white_grievance</td>\n",
       "    </tr>\n",
       "    <tr>\n",
       "      <th>1</th>\n",
       "      <td>rt tune today jmt interview w robert spencer c...</td>\n",
       "      <td>irony</td>\n",
       "    </tr>\n",
       "    <tr>\n",
       "      <th>2</th>\n",
       "      <td>hate posters want hate buddy read koran goo</td>\n",
       "      <td>white_grievance</td>\n",
       "    </tr>\n",
       "    <tr>\n",
       "      <th>3</th>\n",
       "      <td>hunt white women black racist serial killer co...</td>\n",
       "      <td>stereotypical</td>\n",
       "    </tr>\n",
       "    <tr>\n",
       "      <th>4</th>\n",
       "      <td>looks like fan islamic jew hate reza aslan ped...</td>\n",
       "      <td>stereotypical</td>\n",
       "    </tr>\n",
       "  </tbody>\n",
       "</table>\n",
       "</div>"
      ],
      "text/plain": [
       "                                                post   implicit_class\n",
       "0  jewish harvard professor noel ignatiev wants a...  white_grievance\n",
       "1  rt tune today jmt interview w robert spencer c...            irony\n",
       "2        hate posters want hate buddy read koran goo  white_grievance\n",
       "3  hunt white women black racist serial killer co...    stereotypical\n",
       "4  looks like fan islamic jew hate reza aslan ped...    stereotypical"
      ]
     },
     "execution_count": 25,
     "metadata": {},
     "output_type": "execute_result"
    }
   ],
   "source": [
    "df_clean.head()"
   ]
  },
  {
   "cell_type": "markdown",
   "id": "121aaf37",
   "metadata": {},
   "source": [
    "### Data Visualization"
   ]
  },
  {
   "cell_type": "code",
   "execution_count": 8,
   "id": "522a4792",
   "metadata": {},
   "outputs": [
    {
     "data": {
      "text/plain": [
       "<AxesSubplot:xlabel='implicit_class', ylabel='count'>"
      ]
     },
     "execution_count": 8,
     "metadata": {},
     "output_type": "execute_result"
    },
    {
     "data": {
      "image/png": "[encoded data removed]",
      "text/plain": [
       "<Figure size 720x360 with 1 Axes>"
      ]
     },
     "metadata": {
      "needs_background": "light"
     },
     "output_type": "display_data"
    }
   ],
   "source": [
    "plt.figure(figsize=(10, 5))\n",
    "sns.set()\n",
    "plt.suptitle('Hate speech analysis')\n",
    "sns.countplot(df_clean['implicit_class'])"
   ]
  },
  {
   "cell_type": "code",
   "execution_count": 9,
   "id": "baf19876",
   "metadata": {},
   "outputs": [],
   "source": [
    "# Data Encoding\n",
    "df_clean['labels'] = LabelEncoder().fit_transform(df_clean['implicit_class'])"
   ]
  },
  {
   "cell_type": "markdown",
   "id": "e4df0860",
   "metadata": {},
   "source": [
    "## Subtype Classification (BERT)"
   ]
  },
  {
   "cell_type": "code",
   "execution_count": 10,
   "id": "b45b1343",
   "metadata": {},
   "outputs": [],
   "source": [
    "# Feature and target selection\n",
    "x = df_clean['post']\n",
    "y = df_clean['labels']"
   ]
  },
  {
   "cell_type": "code",
   "execution_count": 11,
   "id": "0feabdfc",
   "metadata": {},
   "outputs": [],
   "source": [
    "# Load pre-trained BERT model\n",
    "model_name = 'bert-base-nli-mean-tokens'\n",
    "model = SentenceTransformer(model_name)\n",
    "\n",
    "# Encode text using pre-trained BERT model\n",
    "encoded_text = model.encode(x.tolist())"
   ]
  },
  {
   "cell_type": "markdown",
   "id": "7195028b",
   "metadata": {},
   "source": [
    "### Data Balancing"
   ]
  },
  {
   "cell_type": "code",
   "execution_count": 12,
   "id": "d490adad",
   "metadata": {},
   "outputs": [
    {
     "name": "stdout",
     "output_type": "stream",
     "text": [
      "\n",
      "No. of samples before Balancing:\n",
      "\n",
      "6    1538\n",
      "0    1269\n",
      "4    1133\n",
      "1     863\n",
      "2     797\n",
      "5     666\n",
      "3      80\n",
      "Name: labels, dtype: int64\n",
      "\n",
      "After Balancing data----------------------------\n",
      "\n",
      "6    1538\n",
      "2    1538\n",
      "4    1538\n",
      "0    1538\n",
      "3    1538\n",
      "5    1538\n",
      "1    1538\n",
      "Name: labels, dtype: int64\n"
     ]
    }
   ],
   "source": [
    "from imblearn.over_sampling import RandomOverSampler\n",
    "# Define the undersampling method\n",
    "oversampler = RandomOverSampler()\n",
    "# # Undersample the data\n",
    "x_sampled, y_sampled = oversampler.fit_resample(encoded_text, y)\n",
    "\n",
    "print('\\nNo. of samples before Balancing:\\n')\n",
    "print(y.value_counts())\n",
    "# print('No. of samples(hate):', y.value_counts()[1])\n",
    "print('\\nAfter Balancing data----------------------------\\n')\n",
    "print(y_sampled.value_counts())"
   ]
  },
  {
   "cell_type": "code",
   "execution_count": 93,
   "id": "fa1f7c05",
   "metadata": {},
   "outputs": [],
   "source": [
    "# Train-Test splitting\n",
    "X_train, X_test, y_train, y_test = train_test_split(x_sampled, y_sampled, \n",
    "                                                    test_size=0.3, random_state=42)"
   ]
  },
  {
   "cell_type": "code",
   "execution_count": 94,
   "id": "cd3b3a91",
   "metadata": {},
   "outputs": [
    {
     "name": "stdout",
     "output_type": "stream",
     "text": [
      "Accuracy: 0.555108359133127 \n",
      "\n",
      "              precision    recall  f1-score   support\n",
      "\n",
      "     disgust       0.46      0.44      0.45      1395\n",
      "     fearful       0.49      0.49      0.49      1354\n",
      "       happy       0.52      0.48      0.50      1378\n",
      "     neutral       0.80      0.82      0.81      1410\n",
      "         sad       0.55      0.48      0.51      1399\n",
      "   surprised       0.55      0.65      0.60      1367\n",
      "       angry       0.50      0.53      0.51      1387\n",
      "\n",
      "    accuracy                           0.56      9690\n",
      "   macro avg       0.55      0.55      0.55      9690\n",
      "weighted avg       0.55      0.56      0.55      9690\n",
      "\n"
     ]
    },
    {
     "data": {
      "text/plain": [
       "<AxesSubplot:>"
      ]
     },
     "execution_count": 94,
     "metadata": {},
     "output_type": "execute_result"
    },
    {
     "data": {
      "image/png": "[encoded data removed]",
      "text/plain": [
       "<Figure size 432x288 with 2 Axes>"
      ]
     },
     "metadata": {},
     "output_type": "display_data"
    }
   ],
   "source": [
    "# Define MLP classifier with 6 output classes\n",
    "classifier = MLPClassifier(hidden_layer_sizes=(256, 128), max_iter=1000)\n",
    "\n",
    "# Train the classifier on the encoded text\n",
    "classifier.fit(X_train, y_train)\n",
    "\n",
    "# Predict the labels for the encoded text\n",
    "y_pred = classifier.predict(X_test)\n",
    "\n",
    "# Calculate accuracy of the predictions\n",
    "accuracy = accuracy_score(y_test, y_pred)\n",
    "print(f\"Accuracy: {accuracy} \\n\")\n",
    "\n",
    "# Calculate classification report and confusion matrix\n",
    "print(classification_report(y_test, y_pred))\n",
    "\n",
    "cm = confusion_matrix(y_test, y_pred)\n",
    "sns.heatmap(cm, annot=True, cmap='Blues', xticklabels=classes, yticklabels=classes, fmt='d')"
   ]
  },
  {
   "cell_type": "markdown",
   "id": "650c593a",
   "metadata": {},
   "source": [
    "# Multiclass Classification (CountVectorizer)"
   ]
  },
  {
   "cell_type": "code",
   "execution_count": 20,
   "id": "040971d2",
   "metadata": {},
   "outputs": [],
   "source": [
    "vectorizer = CountVectorizer(max_features=1000) \n",
    "x = vectorizer.fit_transform(df_clean['post']).toarray()"
   ]
  },
  {
   "cell_type": "code",
   "execution_count": 21,
   "id": "f9c8a57e",
   "metadata": {},
   "outputs": [],
   "source": [
    "y = df_clean['labels']"
   ]
  },
  {
   "cell_type": "code",
   "execution_count": 22,
   "id": "91c20300",
   "metadata": {},
   "outputs": [],
   "source": [
    "x_train, x_test, y_train, y_test = train_test_split(x, y, \n",
    "                                                    test_size=0.2, random_state=42)"
   ]
  },
  {
   "cell_type": "markdown",
   "id": "be579262",
   "metadata": {},
   "source": [
    "### Deep Neural Network + Random Forest Classifier"
   ]
  },
  {
   "cell_type": "code",
   "execution_count": 27,
   "id": "e7fa9bee",
   "metadata": {},
   "outputs": [
    {
     "name": "stdout",
     "output_type": "stream",
     "text": [
      "159/159 [==============================] - 1s 8ms/step\n",
      "40/40 [==============================] - 0s 8ms/step\n",
      "\u001b[47mClassification Report\n",
      "\n",
      "\u001b[0m\u001b[34m               precision    recall  f1-score   support\n",
      "\n",
      "           0       0.27      0.23      0.25       253\n",
      "           1       0.17      0.08      0.11       167\n",
      "           2       0.23      0.14      0.17       169\n",
      "           3       0.00      0.00      0.00        17\n",
      "           4       0.16      0.12      0.14       219\n",
      "           5       0.12      0.03      0.05       120\n",
      "           6       0.28      0.58      0.38       325\n",
      "\n",
      "    accuracy                           0.25      1270\n",
      "   macro avg       0.18      0.17      0.16      1270\n",
      "weighted avg       0.22      0.25      0.21      1270\n",
      "\n"
     ]
    }
   ],
   "source": [
    "# deep learning model initialization\n",
    "model = tf.keras.models.Sequential()  \n",
    "model.add(Dense(1000,input_shape=(1000,),activation='relu'))\n",
    "model.add(Dense(500,activation='relu'))\n",
    "model.add(Dense(300,activation='relu'))\n",
    "model.add(Dense(150,activation='relu'))\n",
    "model.add(Dense(75,activation='relu'))\n",
    "model.add(Dense(30,activation='relu'))\n",
    "model.add(Dropout(0.5))\n",
    "\n",
    "x_train_1 = model.predict(x_train)\n",
    "x_test_1 = model.predict(x_test)\n",
    "\n",
    "# Random Forest\n",
    "clf = RandomForestClassifier(n_estimators=20, max_depth=10, random_state=42)\n",
    "clf = clf.fit(x_train_1, y_train)\n",
    "rf_pred = clf.predict(x_test_1)\n",
    "print('\\033[47m' + 'Classification Report\\n\\n' + '\\033[0m' + '\\033[34m', classification_report(y_test, rf_pred))"
   ]
  },
  {
   "cell_type": "markdown",
   "id": "a45d97d3",
   "metadata": {},
   "source": [
    "### Deep Neural Network + Support Vector Classifier"
   ]
  },
  {
   "cell_type": "code",
   "execution_count": 28,
   "id": "8c3208f6",
   "metadata": {},
   "outputs": [
    {
     "name": "stdout",
     "output_type": "stream",
     "text": [
      "159/159 [==============================] - 1s 6ms/step\n",
      "40/40 [==============================] - 0s 6ms/step\n",
      "\u001b[47mClassification Report\n",
      "\n",
      "\u001b[0m\u001b[32m               precision    recall  f1-score   support\n",
      "\n",
      "           0       0.30      0.35      0.32       253\n",
      "           1       0.16      0.06      0.09       167\n",
      "           2       0.26      0.21      0.23       169\n",
      "           3       0.00      0.00      0.00        17\n",
      "           4       0.32      0.32      0.32       219\n",
      "           5       0.19      0.11      0.14       120\n",
      "           6       0.40      0.59      0.47       325\n",
      "\n",
      "    accuracy                           0.32      1270\n",
      "   macro avg       0.23      0.23      0.22      1270\n",
      "weighted avg       0.29      0.32      0.30      1270\n",
      "\n"
     ]
    }
   ],
   "source": [
    "# deep learning model initialization\n",
    "model = tf.keras.models.Sequential()  \n",
    "model.add(Dense(1000,input_shape=(1000,),activation='relu'))\n",
    "model.add(Dense(300,activation='relu'))\n",
    "model.add(Dense(30,activation='relu'))\n",
    "model.add(Dropout(0.5))\n",
    "\n",
    "x_train_2 = model.predict(x_train)\n",
    "x_test_2 = model.predict(x_test)\n",
    "\n",
    "# SVM\n",
    "svc_model = SVC()\n",
    "svc_model.fit(x_train_2, y_train)\n",
    "svc_pred = svc_model.predict(x_test_2)\n",
    "print('\\033[47m' + 'Classification Report\\n\\n' + '\\033[0m' + '\\033[32m', classification_report(y_test, svc_pred))"
   ]
  },
  {
   "cell_type": "code",
   "execution_count": null,
   "id": "5e006ffc",
   "metadata": {},
   "outputs": [],
   "source": []
  }
 ],
 "metadata": {
  "kernelspec": {
   "display_name": "Python 3 (ipykernel)",
   "language": "python",
   "name": "python3"
  },
  "language_info": {
   "codemirror_mode": {
    "name": "ipython",
    "version": 3
   },
   "file_extension": ".py",
   "mimetype": "text/x-python",
   "name": "python",
   "nbconvert_exporter": "python",
   "pygments_lexer": "ipython3",
   "version": "3.11.3"
  }
 },
 "nbformat": 4,
 "nbformat_minor": 5
}
